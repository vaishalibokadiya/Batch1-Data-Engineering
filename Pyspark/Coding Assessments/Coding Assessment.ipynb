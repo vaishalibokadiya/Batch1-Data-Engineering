{
 "cells": [
  {
   "cell_type": "code",
   "execution_count": 0,
   "metadata": {
    "application/vnd.databricks.v1+cell": {
     "cellMetadata": {
      "byteLimit": 2048000,
      "rowLimit": 10000
     },
     "inputWidgets": {},
     "nuid": "91b9018d-c40a-48b7-9619-759275bcc8df",
     "showTitle": false,
     "title": ""
    }
   },
   "outputs": [
    {
     "output_type": "stream",
     "name": "stdout",
     "output_type": "stream",
     "text": [
      "+---+---------------+---+---------------+------+\n| id|           name|age|     department|salary|\n+---+---------------+---+---------------+------+\n|  1|       John Doe| 30|      Marketing| 50000|\n|  2|     Jane Smith| 35|        Finance| 60000|\n|  3|Michael Johnson| 28|Human Resources| 45000|\n|  4|    Sarah Brown| 40|    Engineering| 70000|\n|  5|      Chris Lee| 32|      Marketing| 55000|\n|  6|   Emily Wilson| 45|        Finance| 65000|\n|  7|      David Kim| 38|    Engineering| 72000|\n|  8|    Lisa Garcia| 29|Human Resources| 48000|\n|  9|   James Taylor| 33|      Marketing| 52000|\n| 10|   Amanda Clark| 37|        Finance| 62000|\n+---+---------------+---+---------------+------+\n\n"
     ]
    }
   ],
   "source": [
    "# creating spark session and df\n",
    "import pyspark\n",
    "from pyspark.sql import SparkSession\n",
    "spark = SparkSession.builder.appName(\"CodingAssessment\").getOrCreate()\n",
    "data=[(1,\"John Doe\",30,\"Marketing\",50000),\n",
    "(2,\"Jane Smith\",35,\"Finance\",60000),\n",
    "(3,\"Michael Johnson\",28,\"Human Resources\",45000),\n",
    "(4,\"Sarah Brown\",40,\"Engineering\",70000),\n",
    "(5,\"Chris Lee\",32,\"Marketing\",55000),\n",
    "(6,\"Emily Wilson\",45,\"Finance\",65000),\n",
    "(7,\"David Kim\",38,\"Engineering\",72000),\n",
    "(8,\"Lisa Garcia\",29,\"Human Resources\",48000),\n",
    "(9,\"James Taylor\",33,\"Marketing\",52000),\n",
    "(10,\"Amanda Clark\",37,\"Finance\",62000)]\n",
    "df = spark.createDataFrame(data, ['id', 'name', 'age', 'department', 'salary'])\n",
    "df.show()"
   ]
  },
  {
   "cell_type": "code",
   "execution_count": 0,
   "metadata": {
    "application/vnd.databricks.v1+cell": {
     "cellMetadata": {
      "byteLimit": 2048000,
      "rowLimit": 10000
     },
     "inputWidgets": {},
     "nuid": "368424ad-be5e-43a7-8a0b-c8be03356ca7",
     "showTitle": false,
     "title": ""
    }
   },
   "outputs": [
    {
     "output_type": "stream",
     "name": "stdout",
     "output_type": "stream",
     "text": [
      "+---+---------------+---+---------------+-------------+\n| id|           name|age|     department|salary_amount|\n+---+---------------+---+---------------+-------------+\n|  1|       John Doe| 30|      Marketing|        50000|\n|  2|     Jane Smith| 35|        Finance|        60000|\n|  3|Michael Johnson| 28|Human Resources|        45000|\n|  4|    Sarah Brown| 40|    Engineering|        70000|\n|  5|      Chris Lee| 32|      Marketing|        55000|\n|  6|   Emily Wilson| 45|        Finance|        65000|\n|  7|      David Kim| 38|    Engineering|        72000|\n|  8|    Lisa Garcia| 29|Human Resources|        48000|\n|  9|   James Taylor| 33|      Marketing|        52000|\n| 10|   Amanda Clark| 37|        Finance|        62000|\n+---+---------------+---+---------------+-------------+\n\n"
     ]
    }
   ],
   "source": [
    "# manipulating df\n",
    "# changing column name\n",
    "df.withColumnRenamed(\"salary\",\"salary_amount\").show()"
   ]
  },
  {
   "cell_type": "code",
   "execution_count": 0,
   "metadata": {
    "application/vnd.databricks.v1+cell": {
     "cellMetadata": {
      "byteLimit": 2048000,
      "rowLimit": 10000
     },
     "inputWidgets": {},
     "nuid": "c99aa2ad-00bb-4ee7-a211-7c475959985d",
     "showTitle": false,
     "title": ""
    }
   },
   "outputs": [
    {
     "output_type": "stream",
     "name": "stdout",
     "output_type": "stream",
     "text": [
      "[Row(id=1, name='John Doe', age=30, department='Marketing', salary=50000), Row(id=2, name='Jane Smith', age=35, department='Finance', salary=60000), Row(id=3, name='Michael Johnson', age=28, department='Human Resources', salary=45000)]\n"
     ]
    }
   ],
   "source": [
    "print(df.take(3))"
   ]
  },
  {
   "cell_type": "code",
   "execution_count": 0,
   "metadata": {
    "application/vnd.databricks.v1+cell": {
     "cellMetadata": {
      "byteLimit": 2048000,
      "rowLimit": 10000
     },
     "inputWidgets": {},
     "nuid": "15fd6704-bdeb-450e-a39c-366567bb4f2c",
     "showTitle": false,
     "title": ""
    }
   },
   "outputs": [
    {
     "output_type": "stream",
     "name": "stdout",
     "output_type": "stream",
     "text": [
      "+---------------+------------+---------+---------+------------+------------+----------+--------+-----------+---------------+-----------+\n|     department|Amanda Clark|Chris Lee|David Kim|Emily Wilson|James Taylor|Jane Smith|John Doe|Lisa Garcia|Michael Johnson|Sarah Brown|\n+---------------+------------+---------+---------+------------+------------+----------+--------+-----------+---------------+-----------+\n|    Engineering|        NULL|     NULL|    72000|        NULL|        NULL|      NULL|    NULL|       NULL|           NULL|      70000|\n|        Finance|       62000|     NULL|     NULL|       65000|        NULL|     60000|    NULL|       NULL|           NULL|       NULL|\n|      Marketing|        NULL|    55000|     NULL|        NULL|       52000|      NULL|   50000|       NULL|           NULL|       NULL|\n|Human Resources|        NULL|     NULL|     NULL|        NULL|        NULL|      NULL|    NULL|      48000|          45000|       NULL|\n+---------------+------------+---------+---------+------------+------------+----------+--------+-----------+---------------+-----------+\n\n"
     ]
    }
   ],
   "source": [
    "# pivoting\n",
    "df.groupBy(\"department\").pivot(\"name\").sum(\"salary\").show()"
   ]
  },
  {
   "cell_type": "code",
   "execution_count": 0,
   "metadata": {
    "application/vnd.databricks.v1+cell": {
     "cellMetadata": {
      "byteLimit": 2048000,
      "rowLimit": 10000
     },
     "inputWidgets": {},
     "nuid": "489563dd-f1b4-4390-9e3b-deede6d61f46",
     "showTitle": false,
     "title": ""
    }
   },
   "outputs": [
    {
     "output_type": "stream",
     "name": "stdout",
     "output_type": "stream",
     "text": [
      "+--------+----------+------+\n|    Name|Department|Salary|\n+--------+----------+------+\n| Vaibhav|        IT| 50000|\n|    NULL|        HR| 45000|\n| Shubham|        IT|  NULL|\n|    NULL|        HR| 56000|\n|Vaishali|        IT|  NULL|\n|   Nisha|      NULL| 65000|\n+--------+----------+------+\n\n"
     ]
    }
   ],
   "source": [
    "# drop missing values\n",
    "df_missing=spark.read.csv(\"dbfs:/FileStore/tables/test44.csv\",header=True)\n",
    "df_missing.show()"
   ]
  },
  {
   "cell_type": "code",
   "execution_count": 0,
   "metadata": {
    "application/vnd.databricks.v1+cell": {
     "cellMetadata": {
      "byteLimit": 2048000,
      "rowLimit": 10000
     },
     "inputWidgets": {},
     "nuid": "f79d78d8-941d-4673-9540-4e310495f1a9",
     "showTitle": false,
     "title": ""
    }
   },
   "outputs": [
    {
     "output_type": "stream",
     "name": "stdout",
     "output_type": "stream",
     "text": [
      "+-------+----------+------+\n|   Name|Department|Salary|\n+-------+----------+------+\n|Vaibhav|        IT| 50000|\n+-------+----------+------+\n\n"
     ]
    }
   ],
   "source": [
    "df_missing.na.drop().show()"
   ]
  },
  {
   "cell_type": "code",
   "execution_count": 0,
   "metadata": {
    "application/vnd.databricks.v1+cell": {
     "cellMetadata": {
      "byteLimit": 2048000,
      "rowLimit": 10000
     },
     "inputWidgets": {},
     "nuid": "1a1dc47b-1a55-4a88-8e29-45bc6726fd81",
     "showTitle": false,
     "title": ""
    }
   },
   "outputs": [
    {
     "output_type": "stream",
     "name": "stdout",
     "output_type": "stream",
     "text": [
      "+--------+----------+------+\n|    Name|Department|Salary|\n+--------+----------+------+\n| Vaibhav|        IT| 50000|\n|    NULL|        HR| 45000|\n| Shubham|        IT|  NULL|\n|    NULL|        HR| 56000|\n|Vaishali|        IT|  NULL|\n|   Nisha|      NULL| 65000|\n+--------+----------+------+\n\n"
     ]
    }
   ],
   "source": [
    "df_missing.na.drop(how=\"any\",thresh=2).show() "
   ]
  },
  {
   "cell_type": "code",
   "execution_count": 0,
   "metadata": {
    "application/vnd.databricks.v1+cell": {
     "cellMetadata": {
      "byteLimit": 2048000,
      "rowLimit": 10000
     },
     "inputWidgets": {},
     "nuid": "c178dd91-c39f-432b-b56c-c451114d5fd9",
     "showTitle": false,
     "title": ""
    }
   },
   "outputs": [
    {
     "output_type": "stream",
     "name": "stdout",
     "output_type": "stream",
     "text": [
      "+--------+----------+------+\n|    Name|Department|Salary|\n+--------+----------+------+\n| Vaibhav|        IT| 50000|\n| Shubham|        IT|  NULL|\n|Vaishali|        IT|  NULL|\n|   Nisha|      NULL| 65000|\n+--------+----------+------+\n\n"
     ]
    }
   ],
   "source": [
    "df_missing.na.drop(how=\"any\",subset=[\"name\"]).show()"
   ]
  },
  {
   "cell_type": "code",
   "execution_count": 0,
   "metadata": {
    "application/vnd.databricks.v1+cell": {
     "cellMetadata": {
      "byteLimit": 2048000,
      "rowLimit": 10000
     },
     "inputWidgets": {},
     "nuid": "3a5cee50-6e83-4bb3-a513-e28c99f4ab6f",
     "showTitle": false,
     "title": ""
    }
   },
   "outputs": [
    {
     "output_type": "stream",
     "name": "stdout",
     "output_type": "stream",
     "text": [
      "+---+---------------+---+---------------+------+\n| id|           name|age|     department|salary|\n+---+---------------+---+---------------+------+\n|  7|      David Kim| 38|    Engineering| 72000|\n|  4|    Sarah Brown| 40|    Engineering| 70000|\n|  6|   Emily Wilson| 45|        Finance| 65000|\n| 10|   Amanda Clark| 37|        Finance| 62000|\n|  2|     Jane Smith| 35|        Finance| 60000|\n|  5|      Chris Lee| 32|      Marketing| 55000|\n|  9|   James Taylor| 33|      Marketing| 52000|\n|  1|       John Doe| 30|      Marketing| 50000|\n|  8|    Lisa Garcia| 29|Human Resources| 48000|\n|  3|Michael Johnson| 28|Human Resources| 45000|\n+---+---------------+---+---------------+------+\n\n"
     ]
    }
   ],
   "source": [
    "# sorting\n",
    "df.sort(df[\"salary\"].desc()).show()"
   ]
  },
  {
   "cell_type": "code",
   "execution_count": 0,
   "metadata": {
    "application/vnd.databricks.v1+cell": {
     "cellMetadata": {
      "byteLimit": 2048000,
      "rowLimit": 10000
     },
     "inputWidgets": {},
     "nuid": "1b52d2d8-9269-4aae-9943-14d3c30cf9d0",
     "showTitle": false,
     "title": ""
    }
   },
   "outputs": [
    {
     "output_type": "stream",
     "name": "stdout",
     "output_type": "stream",
     "text": [
      "+---+---------------+---+---------------+------+\n| id|           name|age|     department|salary|\n+---+---------------+---+---------------+------+\n|  3|Michael Johnson| 28|Human Resources| 45000|\n|  8|    Lisa Garcia| 29|Human Resources| 48000|\n|  1|       John Doe| 30|      Marketing| 50000|\n|  5|      Chris Lee| 32|      Marketing| 55000|\n|  9|   James Taylor| 33|      Marketing| 52000|\n|  2|     Jane Smith| 35|        Finance| 60000|\n| 10|   Amanda Clark| 37|        Finance| 62000|\n|  7|      David Kim| 38|    Engineering| 72000|\n|  4|    Sarah Brown| 40|    Engineering| 70000|\n|  6|   Emily Wilson| 45|        Finance| 65000|\n+---+---------------+---+---------------+------+\n\n"
     ]
    }
   ],
   "source": [
    "df.sort(\"age\",\"salary\").show()"
   ]
  },
  {
   "cell_type": "code",
   "execution_count": 0,
   "metadata": {
    "application/vnd.databricks.v1+cell": {
     "cellMetadata": {
      "byteLimit": 2048000,
      "rowLimit": 10000
     },
     "inputWidgets": {},
     "nuid": "f0aa451e-ebad-4a91-8929-e2816d5ae18c",
     "showTitle": false,
     "title": ""
    }
   },
   "outputs": [
    {
     "output_type": "stream",
     "name": "stdout",
     "output_type": "stream",
     "text": [
      "+---------------+-----------+\n|     department|sum(salary)|\n+---------------+-----------+\n|      Marketing|     157000|\n|        Finance|     187000|\n|Human Resources|      93000|\n|    Engineering|     142000|\n+---------------+-----------+\n\n"
     ]
    }
   ],
   "source": [
    "# groupby\n",
    "df.groupBy(\"department\").sum(\"salary\").alias(\"total_salary\").show()"
   ]
  },
  {
   "cell_type": "code",
   "execution_count": 0,
   "metadata": {
    "application/vnd.databricks.v1+cell": {
     "cellMetadata": {
      "byteLimit": 2048000,
      "rowLimit": 10000
     },
     "inputWidgets": {},
     "nuid": "dca8978e-d1e2-46bc-9144-70f866a2d7b9",
     "showTitle": false,
     "title": ""
    }
   },
   "outputs": [
    {
     "output_type": "stream",
     "name": "stdout",
     "output_type": "stream",
     "text": [
      "+---------------+-----+\n|     department|count|\n+---------------+-----+\n|      Marketing|    3|\n|        Finance|    3|\n|Human Resources|    2|\n|    Engineering|    2|\n+---------------+-----+\n\n"
     ]
    }
   ],
   "source": [
    "df.groupBy(\"department\").count().alias(\"number_of_employees\").show()"
   ]
  },
  {
   "cell_type": "code",
   "execution_count": 0,
   "metadata": {
    "application/vnd.databricks.v1+cell": {
     "cellMetadata": {
      "byteLimit": 2048000,
      "rowLimit": 10000
     },
     "inputWidgets": {},
     "nuid": "34a09b6d-2e13-4691-9993-38476004c643",
     "showTitle": false,
     "title": ""
    }
   },
   "outputs": [
    {
     "output_type": "stream",
     "name": "stdout",
     "output_type": "stream",
     "text": [
      "+---------------+-----------+\n|     department|sum(salary)|\n+---------------+-----------+\n|      Marketing|     157000|\n|        Finance|     187000|\n|Human Resources|      93000|\n|    Engineering|     142000|\n+---------------+-----------+\n\n"
     ]
    }
   ],
   "source": [
    "# aggregation\n",
    "df.groupBy(\"department\").agg(({\"salary\":\"sum\"})).show()"
   ]
  },
  {
   "cell_type": "code",
   "execution_count": 0,
   "metadata": {
    "application/vnd.databricks.v1+cell": {
     "cellMetadata": {
      "byteLimit": 2048000,
      "rowLimit": 10000
     },
     "inputWidgets": {},
     "nuid": "ccbbc98a-779b-48b1-ad9b-a4d9bac963c9",
     "showTitle": false,
     "title": ""
    }
   },
   "outputs": [
    {
     "output_type": "stream",
     "name": "stdout",
     "output_type": "stream",
     "text": [
      "+-----------+-------------+-------------+\n|employee_id|employee_name|department_id|\n+-----------+-------------+-------------+\n|          1|        Alice|          101|\n|          2|          Bob|          102|\n|          3|      Charlie|          101|\n|          4|        David|          103|\n+-----------+-------------+-------------+\n\n"
     ]
    }
   ],
   "source": [
    "# joining\n",
    "employees=spark.read.csv(\"dbfs:/FileStore/tables/employees.csv\",header=True,inferSchema=True)\n",
    "employees.show()"
   ]
  },
  {
   "cell_type": "code",
   "execution_count": 0,
   "metadata": {
    "application/vnd.databricks.v1+cell": {
     "cellMetadata": {
      "byteLimit": 2048000,
      "rowLimit": 10000
     },
     "inputWidgets": {},
     "nuid": "125e9b56-a5b0-4389-a6e3-199b8b3a40bc",
     "showTitle": false,
     "title": ""
    }
   },
   "outputs": [
    {
     "output_type": "stream",
     "name": "stdout",
     "output_type": "stream",
     "text": [
      "+-------------+---------------+\n|department_id|department_name|\n+-------------+---------------+\n|          101|    Engineering|\n|          102|          Sales|\n|          103|      Marketing|\n|          104|             HR|\n+-------------+---------------+\n\n"
     ]
    }
   ],
   "source": [
    "departments=spark.read.csv(\"dbfs:/FileStore/tables/department.csv\",header=True,inferSchema=True)\n",
    "departments.show()"
   ]
  },
  {
   "cell_type": "code",
   "execution_count": 0,
   "metadata": {
    "application/vnd.databricks.v1+cell": {
     "cellMetadata": {
      "byteLimit": 2048000,
      "rowLimit": 10000
     },
     "inputWidgets": {},
     "nuid": "b03dd758-2bd5-44b4-be68-456cf7e71ac2",
     "showTitle": false,
     "title": ""
    }
   },
   "outputs": [
    {
     "output_type": "stream",
     "name": "stdout",
     "output_type": "stream",
     "text": [
      "+-----------+-------------+-------------+-------------+---------------+\n|employee_id|employee_name|department_id|department_id|department_name|\n+-----------+-------------+-------------+-------------+---------------+\n|          1|        Alice|          101|          101|    Engineering|\n|          2|          Bob|          102|          102|          Sales|\n|          3|      Charlie|          101|          101|    Engineering|\n|          4|        David|          103|          103|      Marketing|\n+-----------+-------------+-------------+-------------+---------------+\n\n"
     ]
    }
   ],
   "source": [
    "employees.join(departments,employees.department_id ==  departments.department_id,\"inner\") .show()"
   ]
  },
  {
   "cell_type": "code",
   "execution_count": 0,
   "metadata": {
    "application/vnd.databricks.v1+cell": {
     "cellMetadata": {
      "byteLimit": 2048000,
      "rowLimit": 10000
     },
     "inputWidgets": {},
     "nuid": "f7b1fe92-3e5e-4f09-a925-40bfccba888e",
     "showTitle": false,
     "title": ""
    }
   },
   "outputs": [
    {
     "output_type": "stream",
     "name": "stdout",
     "output_type": "stream",
     "text": [
      "+-----------+-------------+-------------+-------------+---------------+\n|employee_id|employee_name|department_id|department_id|department_name|\n+-----------+-------------+-------------+-------------+---------------+\n|          1|        Alice|          101|          101|    Engineering|\n|          3|      Charlie|          101|          101|    Engineering|\n|          2|          Bob|          102|          102|          Sales|\n|          4|        David|          103|          103|      Marketing|\n|       NULL|         NULL|         NULL|          104|             HR|\n+-----------+-------------+-------------+-------------+---------------+\n\n"
     ]
    }
   ],
   "source": [
    "employees.join(departments,employees.department_id ==  departments.department_id,\"outer\") .show()"
   ]
  },
  {
   "cell_type": "code",
   "execution_count": 0,
   "metadata": {
    "application/vnd.databricks.v1+cell": {
     "cellMetadata": {
      "byteLimit": 2048000,
      "rowLimit": 10000
     },
     "inputWidgets": {},
     "nuid": "c8c4c380-f3a1-415c-9845-fbce5a6c2a94",
     "showTitle": false,
     "title": ""
    }
   },
   "outputs": [
    {
     "output_type": "stream",
     "name": "stdout",
     "output_type": "stream",
     "text": [
      "+-----------+-------------+-------------+-------------+---------------+\n|employee_id|employee_name|department_id|department_id|department_name|\n+-----------+-------------+-------------+-------------+---------------+\n|          1|        Alice|          101|          101|    Engineering|\n|          2|          Bob|          102|          102|          Sales|\n|          3|      Charlie|          101|          101|    Engineering|\n|          4|        David|          103|          103|      Marketing|\n+-----------+-------------+-------------+-------------+---------------+\n\n"
     ]
    }
   ],
   "source": [
    "employees.join(departments,employees.department_id ==  departments.department_id,\"left\").show()"
   ]
  },
  {
   "cell_type": "code",
   "execution_count": 0,
   "metadata": {
    "application/vnd.databricks.v1+cell": {
     "cellMetadata": {
      "byteLimit": 2048000,
      "rowLimit": 10000
     },
     "inputWidgets": {},
     "nuid": "6eb8896d-4132-4f8f-b7a4-a61dd11f088c",
     "showTitle": false,
     "title": ""
    }
   },
   "outputs": [
    {
     "output_type": "stream",
     "name": "stdout",
     "output_type": "stream",
     "text": [
      "+-----------+-------------+-------------+-------------+---------------+\n|employee_id|employee_name|department_id|department_id|department_name|\n+-----------+-------------+-------------+-------------+---------------+\n|          3|      Charlie|          101|          101|    Engineering|\n|          1|        Alice|          101|          101|    Engineering|\n|          2|          Bob|          102|          102|          Sales|\n|          4|        David|          103|          103|      Marketing|\n|       NULL|         NULL|         NULL|          104|             HR|\n+-----------+-------------+-------------+-------------+---------------+\n\n"
     ]
    }
   ],
   "source": [
    "employees.join(departments,employees.department_id ==  departments.department_id,\"right\") .show()"
   ]
  },
  {
   "cell_type": "code",
   "execution_count": 0,
   "metadata": {
    "application/vnd.databricks.v1+cell": {
     "cellMetadata": {
      "byteLimit": 2048000,
      "rowLimit": 10000
     },
     "inputWidgets": {},
     "nuid": "2c076c66-91ab-43bd-8217-2b478aef6b34",
     "showTitle": false,
     "title": ""
    }
   },
   "outputs": [
    {
     "output_type": "stream",
     "name": "stdout",
     "output_type": "stream",
     "text": [
      "+-----------+-------------+-------------+\n|employee_id|employee_name|department_id|\n+-----------+-------------+-------------+\n|          1|        Alice|          101|\n|          2|          Bob|          102|\n|          3|      Charlie|          101|\n|          4|        David|          103|\n+-----------+-------------+-------------+\n\n"
     ]
    }
   ],
   "source": [
    "employees.join(departments,employees.department_id ==  departments.department_id,\"leftsemi\") .show()"
   ]
  },
  {
   "cell_type": "code",
   "execution_count": 0,
   "metadata": {
    "application/vnd.databricks.v1+cell": {
     "cellMetadata": {
      "byteLimit": 2048000,
      "rowLimit": 10000
     },
     "inputWidgets": {},
     "nuid": "fdc9e15a-f5f6-41e9-97d7-12fc13d7c8c9",
     "showTitle": false,
     "title": ""
    }
   },
   "outputs": [
    {
     "output_type": "stream",
     "name": "stdout",
     "output_type": "stream",
     "text": [
      "+-----------+-------------+-------------+\n|employee_id|employee_name|department_id|\n+-----------+-------------+-------------+\n+-----------+-------------+-------------+\n\n"
     ]
    }
   ],
   "source": [
    "employees.join(departments,employees.department_id ==  departments.department_id,\"leftanti\") .show()"
   ]
  },
  {
   "cell_type": "code",
   "execution_count": 0,
   "metadata": {
    "application/vnd.databricks.v1+cell": {
     "cellMetadata": {
      "byteLimit": 2048000,
      "rowLimit": 10000
     },
     "inputWidgets": {},
     "nuid": "7d7af9e2-eec8-403a-8b92-05a2516383f0",
     "showTitle": false,
     "title": ""
    }
   },
   "outputs": [],
   "source": [
    "# creating session\n",
    "from pyspark.sql import SparkSession\n",
    "spark=SparkSession.builder.appName(\"CodingAssessment2\").config(\"spark.sql.catalogImplementation\",\"hive\").getOrCreate()"
   ]
  },
  {
   "cell_type": "code",
   "execution_count": 0,
   "metadata": {
    "application/vnd.databricks.v1+cell": {
     "cellMetadata": {
      "byteLimit": 2048000,
      "rowLimit": 10000
     },
     "inputWidgets": {},
     "nuid": "f70106a6-6194-4d1e-8aa8-b10ccacc2c37",
     "showTitle": false,
     "title": ""
    }
   },
   "outputs": [
    {
     "output_type": "execute_result",
     "data": {
      "text/plain": [
       "DataFrame[]"
      ]
     },
     "execution_count": 90,
     "metadata": {},
     "output_type": "execute_result"
    }
   ],
   "source": [
    "# creating database\n",
    "spark.sql(\"CREATE DATABASE IF NOT EXISTS employees_db COMMENT 'This is employees table' LOCATION '/user'\")"
   ]
  },
  {
   "cell_type": "code",
   "execution_count": 0,
   "metadata": {
    "application/vnd.databricks.v1+cell": {
     "cellMetadata": {
      "byteLimit": 2048000,
      "rowLimit": 10000
     },
     "inputWidgets": {},
     "nuid": "11a9c527-0aae-42f2-a3eb-ed2498aba835",
     "showTitle": false,
     "title": ""
    }
   },
   "outputs": [
    {
     "output_type": "execute_result",
     "data": {
      "text/plain": [
       "DataFrame[]"
      ]
     },
     "execution_count": 101,
     "metadata": {},
     "output_type": "execute_result"
    }
   ],
   "source": [
    "# creating employeesData table in the database\n",
    "spark.sql(\"CREATE TABLE IF NOT EXISTS employeesData(emp_id INT, emp_name String, emp_dept_id INT, emp_salary INT)\")"
   ]
  },
  {
   "cell_type": "code",
   "execution_count": 0,
   "metadata": {
    "application/vnd.databricks.v1+cell": {
     "cellMetadata": {
      "byteLimit": 2048000,
      "rowLimit": 10000
     },
     "inputWidgets": {},
     "nuid": "d743e0fb-479a-4434-8749-432e0ad2f6b2",
     "showTitle": false,
     "title": ""
    }
   },
   "outputs": [
    {
     "output_type": "execute_result",
     "data": {
      "text/plain": [
       "DataFrame[num_affected_rows: bigint, num_inserted_rows: bigint]"
      ]
     },
     "execution_count": 102,
     "metadata": {},
     "output_type": "execute_result"
    }
   ],
   "source": [
    "# inserting data into employeesData table\n",
    "spark.sql(\"INSERT INTO employeesData VALUES (1,'Alice',101,10000),(2,'Bob',102,12000),(3,'Charlie',103,15000),(4,'David',101,9000)\")"
   ]
  },
  {
   "cell_type": "code",
   "execution_count": 0,
   "metadata": {
    "application/vnd.databricks.v1+cell": {
     "cellMetadata": {
      "byteLimit": 2048000,
      "rowLimit": 10000
     },
     "inputWidgets": {},
     "nuid": "1e156611-8aa5-4510-8630-ff21d51a7b94",
     "showTitle": false,
     "title": ""
    }
   },
   "outputs": [
    {
     "output_type": "stream",
     "name": "stdout",
     "output_type": "stream",
     "text": [
      "+------+--------+-----------+----------+\n|emp_id|emp_name|emp_dept_id|emp_salary|\n+------+--------+-----------+----------+\n|     1|   Alice|        101|     10000|\n|     2|     Bob|        102|     12000|\n|     3| Charlie|        103|     15000|\n|     4|   David|        101|      9000|\n+------+--------+-----------+----------+\n\n"
     ]
    }
   ],
   "source": [
    "# showing employeesData table\n",
    "spark.sql(\"SELECT * FROM employeesData\").show()"
   ]
  },
  {
   "cell_type": "code",
   "execution_count": 0,
   "metadata": {
    "application/vnd.databricks.v1+cell": {
     "cellMetadata": {
      "byteLimit": 2048000,
      "rowLimit": 10000
     },
     "inputWidgets": {},
     "nuid": "33d621fc-c0cf-4b96-9d03-a97361762724",
     "showTitle": false,
     "title": ""
    }
   },
   "outputs": [
    {
     "output_type": "execute_result",
     "data": {
      "text/plain": [
       "DataFrame[]"
      ]
     },
     "execution_count": 104,
     "metadata": {},
     "output_type": "execute_result"
    }
   ],
   "source": [
    "# creating Departments table in the database\n",
    "spark.sql(\"CREATE TABLE IF NOT EXISTS departments(dept_id INT, dept_name String)\")"
   ]
  },
  {
   "cell_type": "code",
   "execution_count": 0,
   "metadata": {
    "application/vnd.databricks.v1+cell": {
     "cellMetadata": {
      "byteLimit": 2048000,
      "rowLimit": 10000
     },
     "inputWidgets": {},
     "nuid": "7e48e776-fe42-4d30-8055-db53f12f1e5a",
     "showTitle": false,
     "title": ""
    }
   },
   "outputs": [
    {
     "output_type": "execute_result",
     "data": {
      "text/plain": [
       "DataFrame[num_affected_rows: bigint, num_inserted_rows: bigint]"
      ]
     },
     "execution_count": 106,
     "metadata": {},
     "output_type": "execute_result"
    }
   ],
   "source": [
    "# inserting data into Departments table\n",
    "spark.sql(\"INSERT INTO Departments VALUES (101,'Engineering'),(102,'Sales'),(103,'Marketing'),(104,'HR')\")"
   ]
  },
  {
   "cell_type": "code",
   "execution_count": 0,
   "metadata": {
    "application/vnd.databricks.v1+cell": {
     "cellMetadata": {
      "byteLimit": 2048000,
      "rowLimit": 10000
     },
     "inputWidgets": {},
     "nuid": "7ff5ea1f-cd39-4468-8345-d9c9c4093f2f",
     "showTitle": false,
     "title": ""
    }
   },
   "outputs": [
    {
     "output_type": "stream",
     "name": "stdout",
     "output_type": "stream",
     "text": [
      "+-------+-----------+\n|dept_id|  dept_name|\n+-------+-----------+\n|    101|Engineering|\n|    102|      Sales|\n|    103|  Marketing|\n|    104|         HR|\n+-------+-----------+\n\n"
     ]
    }
   ],
   "source": [
    "# Showing departments table\n",
    "spark.sql(\"SELECT * FROM Departments\").show()"
   ]
  },
  {
   "cell_type": "code",
   "execution_count": 0,
   "metadata": {
    "application/vnd.databricks.v1+cell": {
     "cellMetadata": {
      "byteLimit": 2048000,
      "rowLimit": 10000
     },
     "inputWidgets": {},
     "nuid": "fc7d185e-2f06-4ace-9abf-e837e14f1030",
     "showTitle": false,
     "title": ""
    }
   },
   "outputs": [
    {
     "output_type": "stream",
     "name": "stdout",
     "output_type": "stream",
     "text": [
      "+------+--------+-----------+----------+-------+-----------+\n|emp_id|emp_name|emp_dept_id|emp_salary|dept_id|  dept_name|\n+------+--------+-----------+----------+-------+-----------+\n|     1|   Alice|        101|     10000|    101|Engineering|\n|     2|     Bob|        102|     12000|    102|      Sales|\n|     3| Charlie|        103|     15000|    103|  Marketing|\n|     4|   David|        101|      9000|    101|Engineering|\n+------+--------+-----------+----------+-------+-----------+\n\n"
     ]
    }
   ],
   "source": [
    "# Inner join\n",
    "spark.sql(\"SELECT * FROM employeesData INNER JOIN Departments ON employeesData.emp_dept_id=Departments.dept_id\").show()"
   ]
  },
  {
   "cell_type": "code",
   "execution_count": 0,
   "metadata": {
    "application/vnd.databricks.v1+cell": {
     "cellMetadata": {
      "byteLimit": 2048000,
      "rowLimit": 10000
     },
     "inputWidgets": {},
     "nuid": "42eb6fda-0317-407a-9f73-1ce939173ef7",
     "showTitle": false,
     "title": ""
    }
   },
   "outputs": [
    {
     "output_type": "stream",
     "name": "stdout",
     "output_type": "stream",
     "text": [
      "+------+--------+-----------+----------+-------+-----------+\n|emp_id|emp_name|emp_dept_id|emp_salary|dept_id|  dept_name|\n+------+--------+-----------+----------+-------+-----------+\n|     1|   Alice|        101|     10000|    101|Engineering|\n|     2|     Bob|        102|     12000|    102|      Sales|\n|     3| Charlie|        103|     15000|    103|  Marketing|\n|     4|   David|        101|      9000|    101|Engineering|\n+------+--------+-----------+----------+-------+-----------+\n\n"
     ]
    }
   ],
   "source": [
    "# left join\n",
    "spark.sql(\"SELECT * FROM employeesData LEFT JOIN Departments ON employeesData.emp_dept_id=Departments.dept_id\").show()"
   ]
  },
  {
   "cell_type": "code",
   "execution_count": 0,
   "metadata": {
    "application/vnd.databricks.v1+cell": {
     "cellMetadata": {
      "byteLimit": 2048000,
      "rowLimit": 10000
     },
     "inputWidgets": {},
     "nuid": "ab3ae315-a398-489c-8c37-cc6f56637b76",
     "showTitle": false,
     "title": ""
    }
   },
   "outputs": [
    {
     "output_type": "stream",
     "name": "stdout",
     "output_type": "stream",
     "text": [
      "+------+--------+-----------+----------+-------+-----------+\n|emp_id|emp_name|emp_dept_id|emp_salary|dept_id|  dept_name|\n+------+--------+-----------+----------+-------+-----------+\n|     4|   David|        101|      9000|    101|Engineering|\n|     1|   Alice|        101|     10000|    101|Engineering|\n|     2|     Bob|        102|     12000|    102|      Sales|\n|     3| Charlie|        103|     15000|    103|  Marketing|\n|  NULL|    NULL|       NULL|      NULL|    104|         HR|\n+------+--------+-----------+----------+-------+-----------+\n\n"
     ]
    }
   ],
   "source": [
    "# right join\n",
    "spark.sql(\"SELECT * FROM employeesData RIGHT JOIN Departments ON employeesData.emp_dept_id=Departments.dept_id\").show()"
   ]
  },
  {
   "cell_type": "code",
   "execution_count": 0,
   "metadata": {
    "application/vnd.databricks.v1+cell": {
     "cellMetadata": {
      "byteLimit": 2048000,
      "rowLimit": 10000
     },
     "inputWidgets": {},
     "nuid": "3595e10a-d62e-465e-ae5a-19e52a69546d",
     "showTitle": false,
     "title": ""
    }
   },
   "outputs": [
    {
     "output_type": "stream",
     "name": "stdout",
     "output_type": "stream",
     "text": [
      "+------+--------+-----------+----------+-------+-----------+\n|emp_id|emp_name|emp_dept_id|emp_salary|dept_id|  dept_name|\n+------+--------+-----------+----------+-------+-----------+\n|     1|   Alice|        101|     10000|    101|Engineering|\n|     4|   David|        101|      9000|    101|Engineering|\n|     2|     Bob|        102|     12000|    102|      Sales|\n|     3| Charlie|        103|     15000|    103|  Marketing|\n|  NULL|    NULL|       NULL|      NULL|    104|         HR|\n+------+--------+-----------+----------+-------+-----------+\n\n"
     ]
    }
   ],
   "source": [
    "# full/outer join\n",
    "spark.sql(\"SELECT * FROM employeesData FULL JOIN Departments ON employeesData.emp_dept_id=Departments.dept_id\").show()"
   ]
  },
  {
   "cell_type": "code",
   "execution_count": 0,
   "metadata": {
    "application/vnd.databricks.v1+cell": {
     "cellMetadata": {
      "byteLimit": 2048000,
      "rowLimit": 10000
     },
     "inputWidgets": {},
     "nuid": "8a1f66e2-28be-477a-a5c1-fe29ff0910eb",
     "showTitle": false,
     "title": ""
    }
   },
   "outputs": [
    {
     "output_type": "stream",
     "name": "stdout",
     "output_type": "stream",
     "text": [
      "   marks_scored  negative_marks\n0            90              12\n1            67               5\n2            98               7\n3            56              19\n4            87              20\n"
     ]
    }
   ],
   "source": [
    "# applying functions in a pandas dataframe\n",
    "import pyspark.pandas as pd\n",
    "marks=({\"marks_scored\":[90,67,98,56,87],\n",
    "      \"negative_marks\":[12,5,7,19,20]})\n",
    "my_df=pd.DataFrame(marks)\n",
    "print(my_df)"
   ]
  },
  {
   "cell_type": "code",
   "execution_count": 0,
   "metadata": {
    "application/vnd.databricks.v1+cell": {
     "cellMetadata": {
      "byteLimit": 2048000,
      "rowLimit": 10000
     },
     "inputWidgets": {},
     "nuid": "b04d0a78-bb66-4903-aa79-63c41718a5af",
     "showTitle": false,
     "title": ""
    }
   },
   "outputs": [
    {
     "output_type": "stream",
     "name": "stdout",
     "output_type": "stream",
     "text": [
      "marks_scored      23\nnegative_marks     7\ndtype: int64\n"
     ]
    }
   ],
   "source": [
    "def calculate_scores(scores):\n",
    "    return scores[0]-scores[1]\n",
    "\n",
    "final_score=my_df.apply(calculate_scores)\n",
    "print(final_score)"
   ]
  }
 ],
 "metadata": {
  "application/vnd.databricks.v1+notebook": {
   "dashboards": [],
   "language": "python",
   "notebookMetadata": {
    "pythonIndentUnit": 4
   },
   "notebookName": "Coding Assessment",
   "widgets": {}
  }
 },
 "nbformat": 4,
 "nbformat_minor": 0
}
